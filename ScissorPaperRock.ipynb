{
 "cells": [
  {
   "cell_type": "markdown",
   "id": "0cd3f033",
   "metadata": {},
   "source": [
    "## 1. Installing and importing dependencies"
   ]
  },
  {
   "cell_type": "code",
   "execution_count": null,
   "id": "f15ceebf",
   "metadata": {},
   "outputs": [],
   "source": [
    "!pip install opencv-python"
   ]
  },
  {
   "cell_type": "code",
   "execution_count": null,
   "id": "c0bc82e5",
   "metadata": {},
   "outputs": [],
   "source": [
    "!pip install cvzone"
   ]
  },
  {
   "cell_type": "code",
   "execution_count": null,
   "id": "247b8c22",
   "metadata": {},
   "outputs": [],
   "source": [
    "import random\n",
    "import cv2\n",
    "import cvzone\n",
    "from cvzone.HandTrackingModule import HandDetector\n",
    "import time"
   ]
  },
  {
   "cell_type": "code",
   "execution_count": null,
   "id": "1ce8bcfc",
   "metadata": {},
   "outputs": [],
   "source": [
    "cap.release()\n",
    "cv2.destroyAllWindows()"
   ]
  },
  {
   "cell_type": "markdown",
   "id": "a952d204",
   "metadata": {},
   "source": [
    "## 2. Speciifying the Game Rules"
   ]
  },
  {
   "cell_type": "code",
   "execution_count": null,
   "id": "59131998",
   "metadata": {},
   "outputs": [],
   "source": [
    "cap = cv2.VideoCapture(0)\n",
    "cap.set(3, 640)\n",
    "cap.set(4, 480)\n",
    " \n",
    "detector = HandDetector(maxHands=1)\n",
    " \n",
    "timer = 0\n",
    "stateResult = False\n",
    "startGame = False\n",
    "scores = [0, 0]  # [AI, Player]\n",
    " \n",
    "while True:\n",
    "    imgBG = cv2.imread(\"RPS/stone, paper & scissors.png\")\n",
    "    success, img = cap.read()\n",
    " \n",
    "    imgScaled = cv2.resize(img, (0, 0), None, 0.954, 0.954)\n",
    "    imgScaled = imgScaled[:, 112:502]\n",
    " \n",
    "    # Find Hands\n",
    "    hands, img = detector.findHands(imgScaled)  # with draw\n",
    " \n",
    "    if startGame:\n",
    " \n",
    "        if stateResult is False:\n",
    "            timer = time.time() - initialTime\n",
    "            cv2.putText(imgBG, str(int(timer)), (650, 475), cv2.FONT_HERSHEY_TRIPLEX, 3, (0, 0, 0), 3)\n",
    " \n",
    "            if timer > 3:\n",
    "                stateResult = True\n",
    "                timer = 0\n",
    " \n",
    "                if hands:\n",
    "                    playerMove = None\n",
    "                    hand = hands[0]\n",
    "                    fingers = detector.fingersUp(hand)\n",
    "                    if fingers == [0, 0, 0, 0, 0]:\n",
    "                        playerMove = 1\n",
    "                    if fingers == [1, 1, 1, 1, 1]:\n",
    "                        playerMove = 2\n",
    "                    if fingers == [0, 1, 1, 0, 0]:\n",
    "                        playerMove = 3\n",
    " \n",
    "                    randomNumber = random.randint(1, 3)\n",
    "                    imgAI = cv2.imread(f'RPS/{randomNumber}.png', cv2.IMREAD_UNCHANGED)\n",
    "                    imgBG = cvzone.overlayPNG(imgBG, imgAI, (330, 350))\n",
    " \n",
    "                    # Player Wins\n",
    "                    if (playerMove == 1 and randomNumber == 3) or (playerMove == 2 and randomNumber == 1) or (playerMove == 3 and randomNumber == 2):\n",
    "                        scores[1] += 1\n",
    " \n",
    "                    # AI Wins\n",
    "                    elif (playerMove == 3 and randomNumber == 1) or (playerMove == 1 and randomNumber == 2) or (playerMove == 2 and randomNumber == 3):\n",
    "                        scores[0] += 1\n",
    " \n",
    "    imgBG[213:671, 780:1170] = imgScaled\n",
    " \n",
    "    if stateResult:\n",
    "        imgBG = cvzone.overlayPNG(imgBG, imgAI, (330,350))\n",
    " \n",
    "    cv2.putText(imgBG, str(scores[0]), (350, 200), cv2.FONT_HERSHEY_PLAIN, 4, (0, 0, 0), 6)\n",
    "    cv2.putText(imgBG, str(scores[1]), (950, 200), cv2.FONT_HERSHEY_PLAIN, 4, (0, 0, 0), 6)\n",
    " \n",
    "    # cv2.imshow(\"Image\", img)\n",
    "    cv2.imshow(\"BG\", imgBG)\n",
    "    # cv2.imshow(\"Scaled\", imgScaled)\n",
    " \n",
    "    key = cv2.waitKey(1)\n",
    "    if key == ord('s'):\n",
    "        startGame = True\n",
    "        initialTime = time.time()\n",
    "        stateResult = False"
   ]
  },
  {
   "cell_type": "code",
   "execution_count": null,
   "id": "dce5d6e5",
   "metadata": {},
   "outputs": [],
   "source": []
  }
 ],
 "metadata": {
  "kernelspec": {
   "display_name": "Python 3 (ipykernel)",
   "language": "python",
   "name": "python3"
  },
  "language_info": {
   "codemirror_mode": {
    "name": "ipython",
    "version": 3
   },
   "file_extension": ".py",
   "mimetype": "text/x-python",
   "name": "python",
   "nbconvert_exporter": "python",
   "pygments_lexer": "ipython3",
   "version": "3.7.12"
  }
 },
 "nbformat": 4,
 "nbformat_minor": 5
}
